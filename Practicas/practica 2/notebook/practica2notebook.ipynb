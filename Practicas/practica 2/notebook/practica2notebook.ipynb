{
 "cells": [
  {
   "cell_type": "code",
   "execution_count": null,
   "metadata": {},
   "outputs": [],
   "source": [
    "import sys\n",
    "import os\n",
    "\n",
    "sys.path.append(os.path.abspath(\"../src\"))"
   ]
  },
  {
   "cell_type": "markdown",
   "metadata": {},
   "source": [
    "# PUNTO 1:\n",
    "\n",
    "A partir del Zen, imprimir todas las frases cuya segunda palabra empiece con alguna vocal"
   ]
  },
  {
   "cell_type": "code",
   "execution_count": null,
   "metadata": {},
   "outputs": [],
   "source": [
    "zen_text = [\"Beautiful is better than ugly.\",\n",
    "            \"Explicit is better than implicit.\",\n",
    "            \"Simple is better than complex.\",\n",
    "            \"Complex is better than complicated.\",\n",
    "            \"Flat is better than nested.\",\n",
    "            \"Sparse is better than dense.\",\n",
    "            \"Readability counts.\",\n",
    "            \"Special cases aren't special enough to break the rules.\",\n",
    "            \"Although practicality beats purity.\",\n",
    "            \"Errors should never pass silently.\",\n",
    "            \"Unless explicitly silenced.\",\n",
    "            \"In the face of ambiguity, refuse the temptation to guess.\",\n",
    "            \"There should be one-- and preferably only one --obvious way to do it.\",\n",
    "            \"Although that way may not be obvious at first unless you're Dutch.\",\n",
    "            \"Now is better than never.\",\n",
    "            \"Although never is often better than *right* now.\",\n",
    "            \"If the implementation is hard to explain, it's a bad idea.\",\n",
    "            \"If the implementation is easy to explain, it may be a good idea.\",\n",
    "            \"Namespaces are one honking great idea -- let's do more of those!\"]\n",
    "\n",
    "vocals = [\"A\", \"E\", \"I\", \"O\", \"U\", \"a\", \"e\", \"i\", \"o\", \"u\"]\n",
    "\n",
    "for elem in zen_text:\n",
    "    word = elem.split()\n",
    "    if (word[1][0] in vocals):\n",
    "        print(elem)"
   ]
  },
  {
   "cell_type": "markdown",
   "metadata": {},
   "source": [
    "# PUNTO 2:\n",
    "\n",
    "Dentro de una lista, encontrar el titulo mas largo e imprimirlo"
   ]
  },
  {
   "cell_type": "code",
   "execution_count": null,
   "metadata": {},
   "outputs": [],
   "source": [
    "titles = [\"Speedrun de Super Mario en tiempo récord\",\"Charla sobre desarrollo de videojuegos\",\n",
    "          \"Jugando al nuevo FPS del momento con amigos\",\n",
    "          \"Música en vivo: improvisaciones al piano\"]\n",
    "\n",
    "maxAux = 0\n",
    "maxT = \"\"\n",
    "for title in titles:\n",
    "    if (maxAux < len(title)):\n",
    "        maxT = title\n",
    "        maxAux = len(title)\n",
    "print(f'El titulo mas largo es: {maxT}')"
   ]
  },
  {
   "cell_type": "markdown",
   "metadata": {},
   "source": [
    "# PUNTO 3:\n",
    "\n",
    "Solicitar una palabra ingresada e imprimir todas las reglas que la contengan"
   ]
  },
  {
   "cell_type": "code",
   "execution_count": 13,
   "metadata": {},
   "outputs": [],
   "source": [
    "rules = \"\"\"Respeta a los demás. No se permiten insultos ni lenguaje\n",
    "ofensivo.\n",
    "Evita el spam. No publiques enlaces sospechosos o repetitivos.\n",
    "No compartas información personal.\n",
    "Usa los canales adecuados para cada tema.\n",
    "Sigue las instrucciones de los moderadores.\"\"\"\n",
    "\n",
    "keyword = input(\"Introduce una palabra clave: \")\n",
    "\n",
    "for rule in rules.split(\"\\n\"):\n",
    "    if keyword in rule:\n",
    "        print(rule)"
   ]
  },
  {
   "cell_type": "markdown",
   "metadata": {},
   "source": [
    "# PUNTO 4:\n",
    "\n",
    "Validar un nombre de usuario ingresado: minimo 5 chars, al menos 1 numero, 1 mayuscula y solo mayusculas y numeros"
   ]
  },
  {
   "cell_type": "code",
   "execution_count": null,
   "metadata": {},
   "outputs": [],
   "source": [
    "from src.practica2 import validar\n",
    "\n",
    "name = input(\"Ingrese un nombre de usuario (puede contener numeros) \")\n",
    "print(validar(name))   "
   ]
  },
  {
   "cell_type": "markdown",
   "metadata": {},
   "source": [
    "# PUNTO 5:\n",
    "\n",
    "Dado un tiempo en ms ingresado, clasificar su velocidad"
   ]
  },
  {
   "cell_type": "code",
   "execution_count": null,
   "metadata": {},
   "outputs": [],
   "source": [
    "from src.practica2 import clasificar\n",
    "\n",
    "time = int(input(\"Ingrese su tiempo de reacción en ms: \"))\n",
    "print (\"Categoria:\", clasificar(time))"
   ]
  },
  {
   "cell_type": "markdown",
   "metadata": {},
   "source": [
    "# PUNTO 6:\n",
    "\n",
    "A partir de una lista de descripciones, contar cuantas menciones hay de palabras especificas."
   ]
  },
  {
   "cell_type": "code",
   "execution_count": null,
   "metadata": {},
   "outputs": [],
   "source": [
    "descriptions = [\n",
    "\"Streaming de música en vivo con covers y composiciones\",\n",
    "\"Charla interactiva con la audiencia sobre series y películas\",\n",
    "\"Jugamos a juegos retro y charlamos sobre su historia\",\n",
    "\"Exploramos la mejor música de los 80s y 90s\",\n",
    "\"Programa de entretenimiento con noticias y curiosidades del mundo gamer\",\n",
    " \"Sesión de charla con invitados especiales del mundo del streaming\",\n",
    "\"Música en directo con improvisaciones y peticiones del chat\",\n",
    "\"Un espacio para charlar relajada sobre tecnología y cultura digital\",\n",
    "\"Exploramos el impacto de la música en los videojuegos clásicos\"]\n",
    "\n",
    "count = {\"música\": 0 , \"charla\": 0 , \"entretenimiento\": 0}\n",
    "words = [\"música\", \"charla\", \"entretenimiento\"]\n",
    "\n",
    "for desc in descriptions:\n",
    "    for w in words:\n",
    "        if w.lower() in desc.lower():\n",
    "            count[w] += 1\n",
    "\n",
    "print(\"Menciones a musica: \", count[\"música\"])\n",
    "print(\"Menciones a charla: \", count[\"charla\"])\n",
    "print(\"Menciones a entretenimiento: \", count[\"entretenimiento\"])"
   ]
  },
  {
   "cell_type": "markdown",
   "metadata": {},
   "source": [
    "# PUNTO 7:\n",
    "\n",
    "Generar codigo de descuento a partir de nombre"
   ]
  },
  {
   "cell_type": "code",
   "execution_count": null,
   "metadata": {},
   "outputs": [],
   "source": [
    "import string\n",
    "import random\n",
    "from src.practica2 import generar_codigo\n",
    "\n",
    "name = input('Ingrese nombre de usuario (max 15 char) ')\n",
    "chars = string.ascii_uppercase + string.digits\n",
    "\n",
    "print(\"Codigo de descuento:\", generar_codigo(name,chars))"
   ]
  },
  {
   "cell_type": "markdown",
   "metadata": {},
   "source": [
    "# PUNTO 8:\n",
    "\n",
    "Determinar si dos palabras de teclado son anagramas (misma cantidad de letras en diferente orden)"
   ]
  },
  {
   "cell_type": "code",
   "execution_count": null,
   "metadata": {},
   "outputs": [],
   "source": [
    "from src.practica2 import anagramas\n",
    "\n",
    "word1 = input(\"Ingrese la primer palabra: \")\n",
    "word2 = input(\"Ingrese la segunda palabra: \")\n",
    "\n",
    "print(anagramas(word1,word2))"
   ]
  },
  {
   "cell_type": "markdown",
   "metadata": {},
   "source": [
    "# PUNTO 9:\n",
    "\n",
    "A partir de una lista dada, eliminar espacios, agregar mayusculas en los nombres, eliminar duplicados y 'None', imprimo una nueva lista limpia"
   ]
  },
  {
   "cell_type": "code",
   "execution_count": null,
   "metadata": {},
   "outputs": [],
   "source": [
    "from src.practica2 import clean_clients\n",
    "\n",
    "clients = [\" Ana López \", \"Pedro Gómez\", \"maria martínez\", \"Pedro Gómez \", \"\",\" Luis Rodríguez \", None, \"ana lópez\", \"JUAN PÉREZ\", \"MARTA SUÁREZ\",\"luis rodríguez\", \"maría martínez \", \" claudia torres\", \"CLAUDIA TORRES\",\" \", \"pedro gómez\", \"Juan Pérez\", None, \"Ricardo Fernández\", \"LAURA RAMOS\",\"carlos mendes\", \"RICARDO FERNÁNDEZ \", \" Laura ramos\", \"CARLOS MENDES\",\"alejandro gonzález\", \" ALEJANDRO GONZÁLEZ \", \"Patricia Vega\",\"patricia VEGA\", \"Andrés Ocampo\", \" andrés ocampo\", \"Monica Herrera\",\"MONICA HERRERA \", \"gabriela ruíz\", \"Gabriela Ruíz\", \"sandra morales\",\"SANDRA MORALES\", \"miguel ángel\", \"Miguel Ángel \", \" Damián Castillo\",\"Damián Castillo \", None, \"\", \" \"]\n",
    "\n",
    "print(\"Lista limpia al realizar todas las operaciones:\", clean_clients(clients))  "
   ]
  },
  {
   "cell_type": "markdown",
   "metadata": {},
   "source": [
    "# PUNTO 10:\n",
    "\n",
    "Imprimir tablas progresivamente de cada una de las rondas, ir sumando todas las estadisticas y MVPS (persona con mas puntos por ronda) para imprimir en tabla final por orden de puntos"
   ]
  },
  {
   "cell_type": "code",
   "execution_count": null,
   "metadata": {},
   "outputs": [],
   "source": [
    "rounds = [{'Shadow': {'kills': 2, 'assists': 1, 'deaths': True},'Blaze': {'kills': 1, 'assists': 0, 'deaths': False},'Viper': {'kills': 1, 'assists': 2, 'deaths': True},'Frost': {'kills': 0, 'assists': 1, 'deaths': False},'Reaper': {'kills': 1, 'assists': 1, 'deaths': False}},\n",
    "          {'Shadow': {'kills': 0, 'assists': 2, 'deaths': False},'Blaze': {'kills': 2, 'assists': 0, 'deaths': True},'Viper': {'kills': 1, 'assists': 1, 'deaths': False},'Frost': {'kills': 2, 'assists': 1, 'deaths': True},'Reaper': {'kills': 0, 'assists': 1, 'deaths': False}},\n",
    "          {'Shadow': {'kills': 1, 'assists': 0, 'deaths': False},'Blaze': {'kills': 2, 'assists': 2, 'deaths': True},'Viper': {'kills': 1, 'assists': 1, 'deaths': True},'Frost': {'kills': 0, 'assists': 1, 'deaths': False},'Reaper': {'kills': 1, 'assists': 1, 'deaths': False}},\n",
    "          {'Shadow': {'kills': 2, 'assists': 1, 'deaths': False},'Blaze': {'kills': 1, 'assists': 0, 'deaths': True},'Viper': {'kills': 0, 'assists': 2, 'deaths': False},'Frost': {'kills': 1, 'assists': 1, 'deaths': True},'Reaper': {'kills': 1, 'assists': 1, 'deaths': False}},\n",
    "          {'Shadow': {'kills': 1, 'assists': 2, 'deaths': True},'Blaze': {'kills': 0, 'assists': 1, 'deaths': False},'Viper': {'kills': 2, 'assists': 0, 'deaths': True},'Frost': {'kills': 1, 'assists': 1, 'deaths': False},'Reaper': {'kills': 1, 'assists': 1, 'deaths': True}}]\n",
    "\n",
    "\n",
    "# INICIALIZO TABLA PARA CONTAR AL FINAL\n",
    "players = {'Shadow': {'kills': 0, 'assists': 0, 'deaths': 0, 'mvp_count': 0, 'total_points': 0},\n",
    "           'Blaze': {'kills': 0, 'assists': 0, 'deaths': 0, 'mvp_count': 0, 'total_points': 0},\n",
    "           'Viper': {'kills': 0, 'assists': 0, 'deaths': 0, 'mvp_count': 0, 'total_points': 0},\n",
    "           'Frost': {'kills': 0, 'assists': 0, 'deaths': 0, 'mvp_count': 0, 'total_points': 0},\n",
    "           'Reaper': {'kills': 0, 'assists': 0, 'deaths': 0, 'mvp_count': 0, 'total_points': 0}}\n",
    "\n",
    "for round in rounds:\n",
    "    # CREO UN DICT PARA CONTAR LOS PUNTOS DE LA RONDA\n",
    "    points = {}\n",
    "    # USO TUPLA PARA RECORRER, KEY = 'PLAYER', VALUE = {DICT DE STATS}\n",
    "    for player, stats in round.items():\n",
    "        # GUARDO STATS Y CREO UN DICCIONARIO PLAYER:PUNTOS\n",
    "        kills = stats['kills']\n",
    "        assists = stats['assists']\n",
    "        deaths = 1 if stats['deaths'] else 0\n",
    "        total_points = kills * 3 + assists * 1 - deaths\n",
    "        points[player] = total_points\n",
    "\n",
    "        # ACTUALIZO EN TABLA GENERAL\n",
    "        players[player]['kills']+= kills\n",
    "        players[player]['assists']+= assists\n",
    "        players[player]['deaths']+= deaths\n",
    "        players[player]['total_points']+= total_points  \n",
    "\n",
    "    # LE PASO A MAX EL DICCIONARIO Y ME DEVUELVE LA KEY CON MAYOR PUNTOS, LA USO DE INDICE PARA SUMAR 1\n",
    "    mvp = max(points,key=points.get)\n",
    "    players[mvp]['mvp_count']+= 1\n",
    "\n",
    "    # ROUND.INDEX ME DICE LA POS DEL VALOR DE ROUND\n",
    "    print(f'\\nRanking ronda {rounds.index(round) + 1}:')\n",
    "\n",
    "    # IMPRIMO TABLA POR RONDA\n",
    "    print(f'\\n{'Jugador':<5} {'Kills':>6} {'Asistencias':>17} {'Muertes':>11} {'Puntos':>11}')\n",
    "    print(\"--------------------------------------------------------\")        \n",
    "    for player in round:\n",
    "        kills = round[player]['kills']\n",
    "        assists = round[player]['assists']\n",
    "        deaths = 1 if round[player]['deaths'] else 0\n",
    "        total_points = kills * 3 + assists * 1 - deaths\n",
    "        print(f'{player:<10} {kills:<7} {assists:>8} {deaths:>13} {total_points:>11}')\n",
    "\n",
    "# IMPRIMO TABLA FINAL\n",
    "print(f'\\nRanking final:')\n",
    "print(f'\\n{'Jugador':<5} {'Kills':>6} {'Asistencias':>17} {'Muertes':>11} {'MVPS':>10} {'Puntos':>11}')\n",
    "print(\"-------------------------------------------------------------------\")        \n",
    "for player in players:\n",
    "    kills = players[player]['kills']\n",
    "    assists = players[player]['assists']\n",
    "    deaths = players[player]['deaths']\n",
    "    mvps = players[player]['mvp_count']\n",
    "    total_points = players[player]['total_points']\n",
    "    print(f'{player:<10} {kills:<7} {assists:>8} {deaths:>13} {mvps:>13} {total_points:>11}')"
   ]
  }
 ],
 "metadata": {
  "kernelspec": {
   "display_name": "Python 3",
   "language": "python",
   "name": "python3"
  },
  "language_info": {
   "codemirror_mode": {
    "name": "ipython",
    "version": 3
   },
   "file_extension": ".py",
   "mimetype": "text/x-python",
   "name": "python",
   "nbconvert_exporter": "python",
   "pygments_lexer": "ipython3",
   "version": "3.12.9"
  }
 },
 "nbformat": 4,
 "nbformat_minor": 4
}
