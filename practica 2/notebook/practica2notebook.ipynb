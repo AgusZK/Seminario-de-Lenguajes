{
 "cells": [
  {
   "cell_type": "markdown",
   "metadata": {},
   "source": [
    "PUNTO 1:"
   ]
  },
  {
   "cell_type": "code",
   "execution_count": 11,
   "metadata": {},
   "outputs": [
    {
     "name": "stdout",
     "output_type": "stream",
     "text": [
      "Beautiful is better than ugly.\n",
      "Simple is better than complex.\n",
      "Complex is better than complicated.\n",
      "Readability counts.\n",
      "Now is better than never.\n",
      "Namespaces are one honking great idea -- let's do more of those!\n"
     ]
    }
   ],
   "source": [
    "zen_text = [\"Beautiful is better than ugly.\",\n",
    "            \"Explicit is better than implicit.\",\n",
    "            \"Simple is better than complex.\",\n",
    "            \"Complex is better than complicated.\",\n",
    "            \"Flat is better than nested.\",\n",
    "            \"Sparse is better than dense.\",\n",
    "            \"Readability counts.\",\n",
    "            \"Special cases aren't special enough to break the rules.\",\n",
    "            \"Although practicality beats purity.\",\n",
    "            \"Errors should never pass silently.\",\n",
    "            \"Unless explicitly silenced.\",\n",
    "            \"In the face of ambiguity, refuse the temptation to guess.\",\n",
    "            \"There should be one-- and preferably only one --obvious way to do it.\",\n",
    "            \"Although that way may not be obvious at first unless you're Dutch.\",\n",
    "            \"Now is better than never.\",\n",
    "            \"Although never is often better than *right* now.\",\n",
    "            \"If the implementation is hard to explain, it's a bad idea.\",\n",
    "            \"If the implementation is easy to explain, it may be a good idea.\",\n",
    "            \"Namespaces are one honking great idea -- let's do more of those!\"]\n",
    "\n",
    "vocals = [\"A\", \"E\", \"I\", \"O\", \"U\", \"a\", \"e\", \"i\", \"o\", \"u\"]\n",
    "\n",
    "for elem in zen_text:\n",
    "    if elem[1] in vocals:\n",
    "        print(elem)"
   ]
  },
  {
   "cell_type": "markdown",
   "metadata": {},
   "source": [
    "PUNTO 2:"
   ]
  },
  {
   "cell_type": "code",
   "execution_count": 12,
   "metadata": {},
   "outputs": [
    {
     "name": "stdout",
     "output_type": "stream",
     "text": [
      "El titulo mas largo es: Jugando al nuevo FPS del momento con amigos\n"
     ]
    }
   ],
   "source": [
    "titles = [\"Speedrun de Super Mario en tiempo récord\",\"Charla sobre desarrollo de videojuegos\",\n",
    "          \"Jugando al nuevo FPS del momento con amigos\",\n",
    "          \"Música en vivo: improvisaciones al piano\"]\n",
    "\n",
    "max = 0\n",
    "maxT = \"\"\n",
    "for title in titles:\n",
    "    if (max < len(title)):\n",
    "        maxT = title\n",
    "        max = len(title)\n",
    "print(f'El titulo mas largo es: {maxT}')"
   ]
  },
  {
   "cell_type": "markdown",
   "metadata": {},
   "source": [
    "PUNTO 3:"
   ]
  },
  {
   "cell_type": "code",
   "execution_count": 13,
   "metadata": {},
   "outputs": [],
   "source": [
    "rules = \"\"\"Respeta a los demás. No se permiten insultos ni lenguaje\n",
    "ofensivo.\n",
    "Evita el spam. No publiques enlaces sospechosos o repetitivos.\n",
    "No compartas información personal.\n",
    "Usa los canales adecuados para cada tema.\n",
    "Sigue las instrucciones de los moderadores.\"\"\"\n",
    "\n",
    "keyword = input(\"Introduce una palabra clave: \")\n",
    "\n",
    "for rule in rules.split(\"\\n\"):\n",
    "    if keyword in rule:\n",
    "        print(rule)"
   ]
  },
  {
   "cell_type": "markdown",
   "metadata": {},
   "source": [
    "PUNTO 4:"
   ]
  },
  {
   "cell_type": "code",
   "execution_count": 2,
   "metadata": {},
   "outputs": [
    {
     "name": "stdout",
     "output_type": "stream",
     "text": [
      "Nombre de usuario valido\n"
     ]
    }
   ],
   "source": [
    "from src.practica2 import validar\n",
    "\n",
    "name = input(\"Ingrese un nombre de usuario (puede contener numeros) \")\n",
    "print(validar(name))   "
   ]
  },
  {
   "cell_type": "markdown",
   "metadata": {},
   "source": [
    "PUNTO 5:"
   ]
  },
  {
   "cell_type": "code",
   "execution_count": null,
   "metadata": {},
   "outputs": [],
   "source": [
    "from src.practica2 import clasificar\n",
    "\n",
    "time = int(input(\"Ingrese su tiempo de reacción en ms: \"))\n",
    "print (\"Categoria:\", clasificar(time))"
   ]
  },
  {
   "cell_type": "markdown",
   "metadata": {},
   "source": [
    "PUNTO 6:"
   ]
  },
  {
   "cell_type": "code",
   "execution_count": null,
   "metadata": {},
   "outputs": [],
   "source": [
    "descriptions = [\n",
    "\"Streaming de música en vivo con covers y composiciones\",\n",
    "\"Charla interactiva con la audiencia sobre series y películas\",\n",
    "\"Jugamos a juegos retro y charlamos sobre su historia\",\n",
    "\"Exploramos la mejor música de los 80s y 90s\",\n",
    "\"Programa de entretenimiento con noticias y curiosidades del mundo gamer\",\n",
    " \"Sesión de charla con invitados especiales del mundo del streaming\",\n",
    "\"Música en directo con improvisaciones y peticiones del chat\",\n",
    "\"Un espacio para charlar relajada sobre tecnología y cultura digital\",\n",
    "\"Exploramos el impacto de la música en los videojuegos clásicos\"]\n",
    "\n",
    "count = {\"música\": 0 , \"charla\": 0 , \"entretenimiento\": 0}\n",
    "words = [\"música\", \"charla\", \"entretenimiento\"]\n",
    "\n",
    "for desc in descriptions:\n",
    "    for w in words:\n",
    "        if w.lower() in desc.lower():\n",
    "            count[w] += 1\n",
    "\n",
    "print(\"Menciones a musica: \", count[\"música\"])\n",
    "print(\"Menciones a charla: \", count[\"charla\"])\n",
    "print(\"Menciones a entretenimiento: \", count[\"entretenimiento\"])"
   ]
  }
 ],
 "metadata": {
  "kernelspec": {
   "display_name": "Python 3",
   "language": "python",
   "name": "python3"
  },
  "language_info": {
   "codemirror_mode": {
    "name": "ipython",
    "version": 3
   },
   "file_extension": ".py",
   "mimetype": "text/x-python",
   "name": "python",
   "nbconvert_exporter": "python",
   "pygments_lexer": "ipython3",
   "version": "3.12.9"
  }
 },
 "nbformat": 4,
 "nbformat_minor": 2
}
