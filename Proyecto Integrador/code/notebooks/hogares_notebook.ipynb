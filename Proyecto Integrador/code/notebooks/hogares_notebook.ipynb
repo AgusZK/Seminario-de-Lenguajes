{
 "cells": [
  {
   "cell_type": "markdown",
   "id": "3da96c18",
   "metadata": {},
   "source": [
    "# Generacion del dataset de hogares"
   ]
  },
  {
   "cell_type": "code",
   "execution_count": null,
   "id": "8efe6d1c",
   "metadata": {},
   "outputs": [],
   "source": [
    "import sys\n",
    "import os\n",
    "# Me posisiono sobre el proyecto raiz\n",
    "sys.path.append(os.path.abspath(\"..\"))"
   ]
  },
  {
   "cell_type": "markdown",
   "id": "05393af9",
   "metadata": {},
   "source": [
    "### Importo las rutas y funciones necesarias"
   ]
  },
  {
   "cell_type": "code",
   "execution_count": null,
   "id": "653a313f",
   "metadata": {},
   "outputs": [],
   "source": [
    "from pipeline.rutas import HOGARES_PATH, PROCESADOS_PATH\n",
    "from pipeline.procesamiento import unir_archivos"
   ]
  },
  {
   "cell_type": "markdown",
   "id": "e4a1536a",
   "metadata": {},
   "source": [
    "### Unifico los archivos que tengo en mi carpeta hogares\n",
    "Para ello importo la funcion unir_archivos() la cual se encarga de este proceso y \n",
    "en la siguiente celda se puede observar su docstring."
   ]
  },
  {
   "cell_type": "code",
   "execution_count": null,
   "id": "516e36e4",
   "metadata": {},
   "outputs": [],
   "source": [
    "print(unir_archivos.__doc__)\n",
    "\n",
    "unir_archivos(HOGARES_PATH, PROCESADOS_PATH / \"hogares.csv\")"
   ]
  }
 ],
 "metadata": {
  "language_info": {
   "name": "python"
  }
 },
 "nbformat": 4,
 "nbformat_minor": 5
}
