{
 "cells": [
  {
   "cell_type": "code",
   "execution_count": null,
   "id": "1067eca1",
   "metadata": {},
   "outputs": [],
   "source": [
    "import sys\n",
    "import os\n",
    "sys.path.append(os.path.abspath(\"..\"))\n",
    "\n",
    "from pipeline.rutas import PROCESADOS_PATH\n",
    "\n",
    "from pipeline.consultas import *"
   ]
  },
  {
   "cell_type": "markdown",
   "id": "8fea6787",
   "metadata": {},
   "source": [
    "### 1. A partir de la información de cada año contenida en el dataset se debe informar, año \n",
    "### tras año, el porcentaje de personas mayores a 6 años capaces e incapaces de leer y escribir."
   ]
  },
  {
   "cell_type": "code",
   "execution_count": null,
   "id": "1cd75a85",
   "metadata": {},
   "outputs": [],
   "source": [
    "porcentaje_alfabetizacion()"
   ]
  },
  {
   "cell_type": "markdown",
   "id": "9694720e",
   "metadata": {},
   "source": [
    "### 2. A partir de un año y trimestre elegido por el usuario informar el porcentaje de \n",
    "### personas no nacidas en Argentina que hayan cursado un nivel **Universitario o Superior** . "
   ]
  },
  {
   "cell_type": "code",
   "execution_count": null,
   "id": "bc56ecc6",
   "metadata": {},
   "outputs": [],
   "source": [
    "Informar_universitarios_extranjeros()"
   ]
  },
  {
   "cell_type": "markdown",
   "id": "951536f2",
   "metadata": {},
   "source": [
    "### 3. A partir de la información contenida en el dataset informar el año y trimestre donde \n",
    "### hubo menor desocupación.  "
   ]
  },
  {
   "cell_type": "code",
   "execution_count": null,
   "id": "fdae5d06",
   "metadata": {},
   "outputs": [],
   "source": [
    "informar_desocupacion()"
   ]
  },
  {
   "cell_type": "markdown",
   "id": "fee5fa61",
   "metadata": {},
   "source": [
    "### 4. Ranking de los 5 aglomerados con mayor porcentaje de hogares con dos o más \n",
    "### ocupantes con estudios universitarios o superiores finalizados. Información obtenida \n",
    "### a partir del par de archivos más recientes. "
   ]
  },
  {
   "cell_type": "code",
   "execution_count": null,
   "id": "d490d4f5",
   "metadata": {},
   "outputs": [],
   "source": [
    "informar_rankings()"
   ]
  },
  {
   "cell_type": "markdown",
   "id": "f7a35a71",
   "metadata": {},
   "source": [
    "### 5. Informar para cada aglomerado el porcentaje de viviendas ocupadas por sus \n",
    "### propietarios. "
   ]
  },
  {
   "cell_type": "code",
   "execution_count": null,
   "id": "21d9409a",
   "metadata": {},
   "outputs": [],
   "source": [
    "informar_porcentaje_viviendas_ocupadas()"
   ]
  },
  {
   "cell_type": "markdown",
   "id": "8911455e",
   "metadata": {},
   "source": [
    "### 6. Informar el aglomerado con mayor cantidad de viviendas  con más de dos ocupantes \n",
    "### y sin baño. Informar también la cantidad de ellas. "
   ]
  },
  {
   "cell_type": "code",
   "execution_count": null,
   "id": "caa03844",
   "metadata": {},
   "outputs": [],
   "source": [
    "informar_viviendas_sin_baños()"
   ]
  },
  {
   "cell_type": "markdown",
   "id": "0cce5dc8",
   "metadata": {},
   "source": [
    "### 7. Informar para cada **aglomerado** el porcentaje de personas que hayan cursado al \n",
    "### menos en nivel **Universitario o Superior**. "
   ]
  },
  {
   "cell_type": "code",
   "execution_count": null,
   "id": "83cd38a9",
   "metadata": {},
   "outputs": [],
   "source": [
    "informar_porcentaje_aglomerado_universitario()"
   ]
  },
  {
   "cell_type": "markdown",
   "id": "e41c62f4",
   "metadata": {},
   "source": [
    "### 8. Informar las regiones en orden descendente según el porcentaje de inquilinos de \n",
    "### cada una. "
   ]
  },
  {
   "cell_type": "code",
   "execution_count": null,
   "id": "debdd73e",
   "metadata": {},
   "outputs": [],
   "source": [
    "informar_regiones()"
   ]
  },
  {
   "cell_type": "markdown",
   "id": "43315358",
   "metadata": {},
   "source": [
    "### 9. Pedir al usuario que seleccione un aglomerado y a partir de la información contenida \n",
    "### retornar una tabla que contenga la cantidad de personas mayores de edad según su \n",
    "### nivel de estudios alcanzados. "
   ]
  },
  {
   "cell_type": "code",
   "execution_count": null,
   "id": "6fc2f4f0",
   "metadata": {},
   "outputs": [],
   "source": [
    "tabla_de_aglomerados_mayores_edad()"
   ]
  },
  {
   "cell_type": "markdown",
   "id": "adb28b2f",
   "metadata": {},
   "source": [
    "### 10. Pedir al usuario que seleccione dos aglomerados y a partir de la información \n",
    "### contenida retornar una tabla que contenga el porcentaje de personas mayores de \n",
    "### edad con secundario incompleto.  "
   ]
  },
  {
   "cell_type": "code",
   "execution_count": null,
   "id": "e4afc1a5",
   "metadata": {},
   "outputs": [],
   "source": [
    "mayores_de_edad_sin_secundario()"
   ]
  },
  {
   "cell_type": "markdown",
   "id": "27cb2a0c",
   "metadata": {},
   "source": [
    "### 11. Pedir al usuario que seleccione un año, y busque en el último trimestre almacenado \n",
    "### del mencionado año, el aglomerado con mayor porcentaje de viviendas de “Material \n",
    "### precario” y el aglomerado con menor porcentaje de viviendas de “Material precario”"
   ]
  },
  {
   "cell_type": "code",
   "execution_count": null,
   "id": "6dbf1d55",
   "metadata": {},
   "outputs": [],
   "source": [
    "aglomerados_precarios()"
   ]
  },
  {
   "cell_type": "markdown",
   "id": "357425fd",
   "metadata": {},
   "source": [
    "### 12. A partir de la información del último trimestre almacenado en el sistema se debe \n",
    "### retornar para cada aglomerado el porcentaje de jubilados que vivan en una vivienda \n",
    "### con CONDICION_DE_HABITABILIDAD insuficiente. "
   ]
  },
  {
   "cell_type": "code",
   "execution_count": null,
   "id": "6b4b78d7",
   "metadata": {},
   "outputs": [],
   "source": [
    "jubilados_situacion_hogar_complicada()"
   ]
  },
  {
   "cell_type": "markdown",
   "id": "f9f9b4e2",
   "metadata": {},
   "source": [
    "### 13. Solicitar un año al usuario y a partir de la información del último trimestre de dicho \n",
    "### ejercicio informar la cantidad de personas que hayan cursado nivel universitario o \n",
    "### superior y que vivan en una vivienda con CONDICION_DE_HABITABILIDAD insuficiente "
   ]
  },
  {
   "cell_type": "code",
   "execution_count": null,
   "id": "27d7168f",
   "metadata": {},
   "outputs": [],
   "source": [
    "universitarios_en_condiciones_insuficientes()"
   ]
  }
 ],
 "metadata": {
  "language_info": {
   "name": "python"
  }
 },
 "nbformat": 4,
 "nbformat_minor": 5
}
