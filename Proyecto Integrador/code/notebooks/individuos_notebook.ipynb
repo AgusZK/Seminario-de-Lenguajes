{
 "cells": [
  {
   "cell_type": "markdown",
   "id": "b8619155",
   "metadata": {},
   "source": [
    "# Generacion del dataset de individuos"
   ]
  },
  {
   "cell_type": "code",
   "execution_count": null,
   "id": "b08e5966",
   "metadata": {},
   "outputs": [],
   "source": [
    "import sys\n",
    "import os\n",
    "\n",
    "# Me posisiono sobre el proyecto raiz\n",
    "sys.path.append(os.path.abspath(\"..\"))"
   ]
  },
  {
   "cell_type": "markdown",
   "id": "c972cb2a",
   "metadata": {},
   "source": [
    "### Importo las rutas y funciones necesarias"
   ]
  },
  {
   "cell_type": "code",
   "execution_count": null,
   "id": "07122ed9",
   "metadata": {},
   "outputs": [],
   "source": [
    "from pipeline.rutas import INDIVIDUOS_PATH, PROCESADOS_PATH\n",
    "from pipeline.procesamiento import unir_archivos"
   ]
  },
  {
   "cell_type": "markdown",
   "id": "f737099b",
   "metadata": {},
   "source": [
    "### Unifico los archivos que tengo en mi carpeta individuos\n",
    "Para ello importo la funcion unir_archivos() la cual se encarga de este proceso y en la siguiente celda se puede observar su docstring."
   ]
  },
  {
   "cell_type": "code",
   "execution_count": null,
   "id": "0473e124",
   "metadata": {},
   "outputs": [],
   "source": [
    "print(unir_archivos.__doc__)\n",
    "\n",
    "unir_archivos(INDIVIDUOS_PATH, PROCESADOS_PATH / \"individuos.csv\")"
   ]
  }
 ],
 "metadata": {
  "language_info": {
   "name": "python"
  }
 },
 "nbformat": 4,
 "nbformat_minor": 5
}
