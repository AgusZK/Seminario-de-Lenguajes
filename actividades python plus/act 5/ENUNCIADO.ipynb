{
 "cells": [
  {
   "cell_type": "code",
   "execution_count": 10,
   "id": "48c32e16",
   "metadata": {},
   "outputs": [],
   "source": [
    "import csv\n",
    "from pathlib import Path\n",
    "from collections import Counter\n",
    "from datetime import datetime\n",
    "\n",
    "def en_rango(xx):\n",
    "    formato = \"%d/%m/%y, %H:%M:%S\"\n",
    "    h = datetime.strptime(xx, formato)\n",
    "    return h.date().month in (3, 4)\n",
    "\n",
    "def mi_filtro(csv_reader, cant = 1):\n",
    "    u = filter(lambda x:  en_rango(x[\"Hora\"]), csv_reader)\n",
    "    return Counter( map(lambda x: x['Nombre completo del usuario'], u)).most_common(cant)"
   ]
  },
  {
   "cell_type": "code",
   "execution_count": 35,
   "id": "01741a18",
   "metadata": {},
   "outputs": [
    {
     "name": "stdout",
     "output_type": "stream",
     "text": [
      "El archivo tiene problemas de formato CSV\n"
     ]
    }
   ],
   "source": [
    "file_route = Path('archivos') / 'logs_catedra.csv'\n",
    "# TUVE QUE AGREGAR UTF-8, DE LO CONTRARIO NO FUNCIONABA\n",
    "try:\n",
    "    with open(file_route, encoding = 'utf-8') as file:\n",
    "        csv_reader = csv.DictReader(file, delimiter=';')\n",
    "        try:\n",
    "            x = mi_filtro(csv_reader,10)\n",
    "            for elem in x:\n",
    "                print(f'Persona usuaria: {elem[0].upper()}')\n",
    "        except (csv.Error, KeyError):\n",
    "            print('El archivo tiene problemas de formato CSV')  \n",
    "except FileNotFoundError:\n",
    "    print('El archivo que se intenta abrir no existe')"
   ]
  },
  {
   "cell_type": "markdown",
   "id": "58d067dc",
   "metadata": {},
   "source": [
    "(a) Explicá qué hace la función mi_filtro y mostrá la ejecución describiendo cuál es la salida.\n",
    "\n",
    "    -Recibe un iterable y la cantidad de usuarios a devolver. Entra y en u= filtra las filas cuya celda 'hora' este en en_rango (por defecto tiene 3 y 4) que lo filtra usando datetime.\n",
    "    -Devuelve una lista de tuplas y usa counter para contar cuantas veces aparece el usuario en esas filas que filtras\n",
    "\n",
    "(b) Modificá la función miFiltro de manera tal que no sea necesario pasar como parámetro la cantidad de elementos a retornar. Y, en caso que no se\n",
    "indique la cantidad, se debe retornar solo el primer usuario que cumple la condición de filtro. Mostrá la ejecución del mismo.\n",
    "\n",
    "    -Modifico poniendo como parametro por defecto cant en 1 en mi_filtro, asi en caso de que no me pasen nada, solo devuelvo el primero\n",
    "\n",
    "(c) Respondé: ¿cuántos parámetros recibe la función mi_filtro modificada? ¿Cuántos son obligatorios y cuántos son opcionales?\n",
    "\n",
    "    -Recibe 1 parametro obligatorio, que seria el dictReader y 1 opcional, ya que si no pasas cant por defecto toma 1, pero si le das valor, toma ese valor\n",
    "\n",
    "(d) Modificá el código de manera tal que el programa no corte su ejecución con un error en caso que el archivo tenga problemas de formato csv o no\n",
    "exista. Mostrá la ejecución del código modificado mostrando que esta situación no se da.\n",
    "\n",
    "    -Movi el for que itera sobre el filtrado del dictreader adentro, cosa de que si salta un error de formato csv quede capturado.\n",
    "    -Al cambiar el delimiter fuerzo a que salte una excepcion de keyError, y si alguna columna tiene un dato mal balanceado o corrupto se captura con csv.Error\n",
    "    -Ambos capturan errores del formato csv\n",
    "\n",
    "(e) Respondé: ¿en qué momento se cierra el archivo? Justificá\n",
    "\n",
    "    -El archivo se cierra automaticamente al terminar el bloque with, es decir, cuando termina de procesar el codigo dentro del with\n",
    "    -Es una ventaja de la sentencia with, cierra el archivo automaticamente\n"
   ]
  },
  {
   "cell_type": "markdown",
   "id": "578ece77",
   "metadata": {},
   "source": [
    "2. Interactúa con una IA con las siguientes consignas: Solicitá a la IA que te genere los docstrings para las funciones del código modificado. ¿Estás de acuerdo con la respuesta obtenida?\n",
    "Respuesta:\n",
    "    -def en_rango(xx):\n",
    "    \"\"\"\n",
    "    Verifica si una fecha y hora dada está en el rango de los meses de marzo o abril. \n",
    "    ## DEBERIA DECIR QUE VERIFICA QUE ESTE EN EL RANGO DE ESOS MESES\n",
    "\n",
    "    Args:\n",
    "        xx (str): Una cadena de texto que representa una fecha y hora en el formato \"%d/%m/%y, %H:%M:%S\". \n",
    "        # REPRESENTA UNA FILA, PERO SI\n",
    "\n",
    "    Returns:\n",
    "        bool: True si el mes de la fecha es marzo (3) o abril (4), False en caso contrario. \n",
    "        # SI\n",
    "    \"\"\"\n",
    "    formato = \"%d/%m/%y, %H:%M:%S\"\n",
    "    h = datetime.strptime(xx, formato)\n",
    "    return h.date().month in (3, 4)\n",
    "\n",
    "    def mi_filtro(csv_reader, cant=1):\n",
    "        \"\"\"\n",
    "        Filtra los registros del lector CSV para incluir solo aquellos cuya fecha está en marzo o abril,\n",
    "        y cuenta cuántas veces aparece cada usuario. \n",
    "        # SI, AQUELLOS CUYA FECHA ESTE EN EL RANGO QUE PREDEFINIS\n",
    "\n",
    "        Args:\n",
    "            csv_reader (csv.DictReader): Un lector de CSV que itera sobre diccionarios con claves como 'Hora' y 'Nombre completo del usuario'.\n",
    "            cant (int, optional): La cantidad de usuarios más frecuentes a devolver. Por defecto es 1.\n",
    "\n",
    "        Returns:\n",
    "            list of tuples: Una lista de tuplas con los usuarios más frecuentes y sus conteos, ordenada de mayor a menor frecuencia. \n",
    "            # SI\n",
    "        \"\"\"\n",
    "        u = filter(lambda x: en_rango(x[\"Hora\"]), csv_reader)\n",
    "        return Counter(map(lambda x: x['Nombre completo del usuario'], u)).most_common(cant)\n"
   ]
  }
 ],
 "metadata": {
  "kernelspec": {
   "display_name": "Python 3",
   "language": "python",
   "name": "python3"
  },
  "language_info": {
   "codemirror_mode": {
    "name": "ipython",
    "version": 3
   },
   "file_extension": ".py",
   "mimetype": "text/x-python",
   "name": "python",
   "nbconvert_exporter": "python",
   "pygments_lexer": "ipython3",
   "version": "3.12.9"
  }
 },
 "nbformat": 4,
 "nbformat_minor": 5
}
