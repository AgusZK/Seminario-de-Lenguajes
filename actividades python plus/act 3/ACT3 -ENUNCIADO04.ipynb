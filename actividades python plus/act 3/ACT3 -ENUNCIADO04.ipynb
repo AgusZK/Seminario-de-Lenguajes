{
 "cells": [
  {
   "cell_type": "markdown",
   "id": "b015a19f",
   "metadata": {},
   "source": [
    "# Actividad 3 por Python plus\n",
    "\n",
    "\n",
    "En los [lineamientos](https://docs.google.com/document/d/1xUFfI7ji0LPRayk3M-2Jjmofi2LB38tlFFKhwu0CaRQ/edit?tab=t.0#heading=h.7thdb05c1731) dados para resolver esta actividad también se encuentra un enlace a la [grilla](https://docs.google.com/spreadsheets/d/1nNRtZygGv_cYYC2YAAfwrjCv8rSQCamC1wOBX1teP50/edit?gid=937426456#gid=937426456) con la que será calificada. \n",
    "\n",
    "Para realizar el ejercicio deben descargar el archivo denominado [logs_catedra.csv](https://archivos.linti.unlp.edu.ar/index.php/s/FWcrdV62Ds8qDra) y ubicarlo en una carpeta denomina **\"archivos\"**. \n",
    "\n",
    "\n",
    "\n",
    "\n",
    "Este archivo  contiene el registro de accesos al entorno catedras.linti correspondiente a nuestro curso. "
   ]
  },
  {
   "cell_type": "markdown",
   "id": "c3af099f",
   "metadata": {},
   "source": [
    "## Parte I - CONSIGNA A RESOLVER"
   ]
  },
  {
   "cell_type": "markdown",
   "id": "fcabfa88",
   "metadata": {},
   "source": [
    "**EJERCICIO 1.** Escribir una función que retorne los usuarios que accedieron al menos una vez  al material de clases  los días lunes, y las fechas en las que lo hicieron. Esta función recibe un parámetro opcional que indica el orden en que se incluyen las fechas: \"**A**\", si se ordenan en forma ascendente, \"**D**\" si es descendente o **None** si no se aplica ningún orden en particular. Por defecto la función no ordena.\n",
    "\n",
    "**NOTA:** la información sobre el material de clases se obtiene verificando el texto \"Página: Material de las clases\" en la columna \"Contexto del evento\" del dataset.\n",
    "\n",
    "**EJERCICIO 2.** Utilizando la función anterior, escribir un programa que muestre dos listados correspondientes a la actividad  de **los 5 usuarios** que más veces accedieron al material de clases los días lunes: uno en el cual  se muestren las fechas en orden descendente  y otro tal cual como aparecen en el dataset"
   ]
  },
  {
   "cell_type": "markdown",
   "id": "58618511",
   "metadata": {},
   "source": [
    "## Solución\n",
    "\n",
    "### EJERCICIO 1"
   ]
  },
  {
   "cell_type": "code",
   "execution_count": null,
   "id": "f7990b84",
   "metadata": {},
   "outputs": [],
   "source": [
    "import csv\n",
    "from pathlib import Path\n",
    "from datetime import datetime\n",
    "from collections import Counter\n",
    "\n",
    "def usuarios_lunes(datos, orden=None):\n",
    "    # FUNCION QUE SE FIJA QUE LA FECHA SEA LUNES Y QUE EL CONTEXTO SEA EL DE MATERIAL\n",
    "    def material_lunes(event):\n",
    "        try:\n",
    "            fecha = datetime.strptime(event['Hora'], '%d/%m/%Y %H:%M').date() \n",
    "            context = event['Contexto del evento'].strip()\n",
    "            if 'Página: Material de las clases' in context and fecha.weekday() == 0:\n",
    "                return True\n",
    "            else:\n",
    "                return False\n",
    "            \n",
    "        except:\n",
    "            return False\n",
    "\n",
    "    # ME GUARDO EN UNA VARIABLE UNA LISTA CON LOS QUE CUMPLEN\n",
    "    filtrar_event = list(filter(material_lunes, datos))\n",
    "    # GUARDO (USUARIO, FECHA) EN UNA LISTA\n",
    "    accesos = list(map(lambda x: (x['Nombre completo del usuario'], datetime.strptime(x['Hora'], '%d/%m/%Y %H:%M').date()), filtrar_event))\n",
    "\n",
    "    # CREO DICCIONARIO PARA GUARDAR USUARIOS, FECHAS\n",
    "    usuarios = {}\n",
    "    for usuario, fecha in accesos:\n",
    "        # SI NO ESTA LO CREO\n",
    "        if usuario not in usuarios:\n",
    "            usuarios[usuario] = set()\n",
    "        # SI YA ESTA LE TENGO QUE AGREGAR FECHA\n",
    "        usuarios[usuario].add(fecha)\n",
    "\n",
    "    # ORDEN = A, ORDENA DE LA MAS ANTIGUA A LA MAS RECIENTE \n",
    "    # ORDEN = D, ORDENA DE LA MAS RECIENTE A LA MAS ANTIGUA \n",
    "    for usuario in usuarios:\n",
    "        fechas = list(usuarios[usuario])\n",
    "\n",
    "        if orden == \"A\":\n",
    "            fechas.sort()\n",
    "        elif orden == \"D\":\n",
    "            # APLICO EL REVERSE PARA QUE SEA INVERSO A 'A'\n",
    "            fechas.sort(reverse=True)\n",
    "\n",
    "        # MODIFICA EL DIC\n",
    "        usuarios[usuario] = fechas\n",
    "\n",
    "    return usuarios\n"
   ]
  },
  {
   "cell_type": "markdown",
   "id": "63f6917e",
   "metadata": {},
   "source": [
    "### EJERCICIO 2"
   ]
  },
  {
   "cell_type": "code",
   "execution_count": null,
   "id": "8beed54b",
   "metadata": {},
   "outputs": [],
   "source": [
    "path_file = Path('archivos') / 'logs_catedra.csv'\n",
    "\n",
    "with open(path_file, encoding='utf-8') as file:\n",
    "    reader = list(csv.DictReader(file, delimiter=','))\n",
    "\n",
    "    # OBTENGO AMBOS LISTADOS \n",
    "    usuarios_D = usuarios_lunes(reader, orden='D')\n",
    "    usuarios_original = usuarios_lunes(reader, orden=None)\n",
    "\n",
    "    # ME QUEDO CON EL TOP 5 CON MAS ACCESOS\n",
    "    counter_D = Counter({usuario: len(fechas) for usuario, fechas in usuarios_D.items()}).most_common(5)\n",
    "    counter_Original = Counter({usuario: len(fechas) for usuario, fechas in usuarios_original.items()}).most_common(5)\n",
    "\n",
    "    # PRINTEO AMBOS LISTADOS\n",
    "    print(\"ACCESOS EN ORDEN DESCENDENTE:\")\n",
    "    for usuario, cantidad in counter_D:\n",
    "        print(f\"{usuario}: {cantidad} accesos\")\n",
    "\n",
    "    print(\"ACCESOS EN ORDEN ORIGINAL:\")\n",
    "    for usuario, cantidad in counter_Original:\n",
    "        print(f\"{usuario}: {cantidad} accesos\")"
   ]
  },
  {
   "cell_type": "markdown",
   "id": "cf6fe10e",
   "metadata": {},
   "source": [
    "## Parte II - CUESTIONARIO\n",
    "\n",
    "Respondé las siguientes preguntas:"
   ]
  },
  {
   "cell_type": "markdown",
   "id": "07995f41",
   "metadata": {},
   "source": [
    "1. **¿Qué estructuras de datos usaste para el manejo de los datos ingresados desde el archivo? ¿Por qué te parece la más adecuada?**"
   ]
  },
  {
   "cell_type": "markdown",
   "id": "aa65c3e8",
   "metadata": {},
   "source": [
    "**RTA.**\n",
    "Use tanto listas como diccionarios. Utilice listas para almacenar el contenido una vez que pasa el filtro de la funcion con el map y utilice los diccionarios para almaecenar los usuarios, fechas para poder manejarlos individualmente. La lista me parecio la mas adecuada para almacenar la informacion dinamicamente ahi luego de que se le pase el filtro ya que esta lista esta directamente relacionada con el almaceneado en el diccionario, ya que al recorrer la lista y tener usuarios repetidos, con el diccionario me ahorro repetidos y simplemente le agrego fechas para tener una estructura mucho mas ordenada\n",
    "\n",
    "\n"
   ]
  },
  {
   "cell_type": "markdown",
   "id": "7cc3ef0d",
   "metadata": {},
   "source": [
    "2. **¿Usaste map o filter? Explicá detalladamente la solución y  por qué decidiste usarla o por qué no lo hiciste.**"
   ]
  },
  {
   "cell_type": "markdown",
   "id": "fb8761ad",
   "metadata": {},
   "source": [
    "**RTA.**\n",
    "\n",
    "Utilice ambas. El filter lo utilice para recorrer porque me parecio la forma mas eficiente de obtener SOLO aquellos que cumplan con la condicion de la funcion que le paso por parametro. El map esta directamente relacionado con este filter, ya que le paso al map aquellos que fueron filtrados por el filter y toma cada elemento de estos y lo devuelve en una lista de tuplas con usuario y fecha\n",
    "\n"
   ]
  },
  {
   "cell_type": "markdown",
   "id": "6eede981",
   "metadata": {},
   "source": [
    "## Parte III - INTERACCIÓN CON LA IA \n",
    "\n",
    "Respondé las siguientes preguntas:"
   ]
  },
  {
   "cell_type": "markdown",
   "id": "9d5a2fb5",
   "metadata": {
    "slideshow": {
     "slide_type": "slide"
    }
   },
   "source": [
    "1. **Mostrá una solución dada por una IA a este ejercicio y respondé:**"
   ]
  },
  {
   "cell_type": "code",
   "execution_count": null,
   "id": "f2d1fd27",
   "metadata": {},
   "outputs": [],
   "source": [
    "# IA utilizada: ChatGPT\n",
    "#Solución dada por la IA\n",
    "import csv\n",
    "from datetime import datetime\n",
    "\n",
    "# Paso 1: Cargar el archivo CSV\n",
    "def cargar_datos():\n",
    "    archivo = 'archivos/registro_eventos.csv'  # Ajustar el nombre del archivo según sea necesario\n",
    "    datos = []\n",
    "    \n",
    "    with open(archivo, mode='r', encoding='utf-8') as file:\n",
    "        reader = csv.DictReader(file)\n",
    "        for row in reader:\n",
    "            datos.append(row)\n",
    "    \n",
    "    return datos\n",
    "\n",
    "# Paso 2: Filtrar usuarios que accedieron al material los lunes\n",
    "def obtener_usuarios_lunes(orden=None):\n",
    "    datos = cargar_datos()\n",
    "    usuarios_lunes = []\n",
    "\n",
    "    # Filtrar las filas que contienen \"Página: Material de las clases\"\n",
    "    for row in datos:\n",
    "        if \"Página: Material de las clases\" in row['Contexto del evento']:\n",
    "            fecha = row['Fecha']\n",
    "            try:\n",
    "                fecha_dt = datetime.strptime(fecha, '%Y-%m-%d')  # Ajustar el formato de fecha según corresponda\n",
    "                if fecha_dt.weekday() == 0:  # Verifica si el día es lunes\n",
    "                    usuarios_lunes.append({'Usuario': row['Usuario'], 'Fecha': fecha_dt})\n",
    "            except ValueError:\n",
    "                continue  # Si la fecha no es válida, saltamos la fila\n",
    "\n",
    "    # Si se requiere ordenar las fechas\n",
    "    if orden == 'A':\n",
    "        usuarios_lunes.sort(key=lambda x: x['Fecha'], reverse=False)\n",
    "    elif orden == 'D':\n",
    "        usuarios_lunes.sort(key=lambda x: x['Fecha'], reverse=True)\n",
    "\n",
    "    return usuarios_lunes\n",
    "\n",
    "# Ejercicio 2: Mostrar los 5 usuarios que más veces accedieron al material de clases los lunes\n",
    "def usuarios_mas_activos_lunes():\n",
    "    usuarios_lunes = obtener_usuarios_lunes()\n",
    "    \n",
    "    # Contar las veces que cada usuario accedió al material los lunes\n",
    "    conteo_usuarios = {}\n",
    "    for item in usuarios_lunes:\n",
    "        usuario = item['Usuario']\n",
    "        if usuario not in conteo_usuarios:\n",
    "            conteo_usuarios[usuario] = []\n",
    "        conteo_usuarios[usuario].append(item['Fecha'])\n",
    "    \n",
    "    # Ordenar a los usuarios por el número de accesos\n",
    "    usuarios_top_5 = sorted(conteo_usuarios.items(), key=lambda x: len(x[1]), reverse=True)[:5]\n",
    "    \n",
    "    # Mostrar las fechas en orden descendente y en orden original\n",
    "    for usuario, fechas in usuarios_top_5:\n",
    "        print(f\"\\nUsuario: {usuario}\")\n",
    "        \n",
    "        # Fechas en orden descendente\n",
    "        print(\"Fechas en orden descendente:\")\n",
    "        fechas_ordenadas_desc = sorted(fechas, reverse=True)\n",
    "        for fecha in fechas_ordenadas_desc:\n",
    "            print(fecha.strftime('%Y-%m-%d'))\n",
    "\n",
    "        # Fechas tal como aparecen en el dataset\n",
    "        print(\"Fechas tal como aparecen en el dataset:\")\n",
    "        for fecha in fechas:\n",
    "            print(fecha.strftime('%Y-%m-%d'))\n",
    "\n",
    "# Ejecutar el ejercicio 2\n",
    "usuarios_mas_activos_lunes()\n"
   ]
  },
  {
   "cell_type": "markdown",
   "id": "7ba9f734",
   "metadata": {
    "slideshow": {
     "slide_type": "slide"
    }
   },
   "source": [
    "2. **¿Qué IA utilizaste? En la respuesta dada, ¿se incluyen funciones o métodos no dados por la cátedra?**"
   ]
  },
  {
   "cell_type": "markdown",
   "id": "1ae1a977",
   "metadata": {},
   "source": [
    "**RTA.**\n",
    "\n",
    "Utilice chatgpt y la respuesta inmediata fue utilizando pd por lo tanto no incluye metodos y funciones dados por la catedra. Entonces me parecio una buena idea darle otro prompt en el que le impido usar esas librerias y me devolvio este otro resultado\n",
    "\n"
   ]
  },
  {
   "cell_type": "markdown",
   "id": "ae3ebc0c",
   "metadata": {
    "slideshow": {
     "slide_type": "slide"
    }
   },
   "source": [
    "2.  **Según tu experiencia, ¿la solución brindada por la IA es mejor o no respecto a la tuya?**"
   ]
  },
  {
   "cell_type": "markdown",
   "id": "1857fe7e",
   "metadata": {},
   "source": [
    "**RTA.**\n",
    "\n",
    "La respuesta brindada no es mejor ya que no utiliza varios iteradores y funcionalidades utiles que vimos en las clases. El uso de filter, counter y map en este tipo de ejercicios donde hay que seleccionar aquellos que cumplen cierta condicion y devolver X cantidad de ellos es esencial, ya que te facilitan mucho tanto la iteracion como el conteo de estos mismos, ademas de tambien su guardado en una estructura de datos adecuada"
   ]
  }
 ],
 "metadata": {
  "kernelspec": {
   "display_name": "Python 3",
   "language": "python",
   "name": "python3"
  },
  "language_info": {
   "codemirror_mode": {
    "name": "ipython",
    "version": 3
   },
   "file_extension": ".py",
   "mimetype": "text/x-python",
   "name": "python",
   "nbconvert_exporter": "python",
   "pygments_lexer": "ipython3",
   "version": "3.12.9"
  }
 },
 "nbformat": 4,
 "nbformat_minor": 5
}
