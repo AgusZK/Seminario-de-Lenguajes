{
 "cells": [
  {
   "cell_type": "markdown",
   "id": "632a2ea3",
   "metadata": {},
   "source": [
    "EJERCICIO 1. Escribí una función que devuelva la cantidad total de accesos a la\n",
    "elección de turno, agrupados por día y ordenados por las cantidades.\n",
    "\n",
    "Nota: la información sobre la elección de turno se obtiene verificando que la columna\n",
    "\"Contexto del evento\" contenga el texto 'Consulta: Elección de turno'. Utilizá la opción format al convertir a tipo de datos fecha: format='%d/%m/%y,\n",
    "%H:%M:%S'."
   ]
  },
  {
   "cell_type": "markdown",
   "id": "75430ad7",
   "metadata": {},
   "source": [
    "EJERCICIO 2. Utilizando la función anterior, escribí un programa que obtenga los 5\n",
    "días con la mayor cantidad de accesos e informe la cantidad de registros del dataset\n",
    "original en cada uno de esos días."
   ]
  },
  {
   "cell_type": "markdown",
   "id": "a3c9299e",
   "metadata": {},
   "source": [
    "# SOLUCION"
   ]
  },
  {
   "cell_type": "markdown",
   "id": "d4dd8e8f",
   "metadata": {},
   "source": [
    "## EJERCICIO 1"
   ]
  },
  {
   "cell_type": "code",
   "execution_count": 4,
   "id": "eb53ab71",
   "metadata": {},
   "outputs": [],
   "source": [
    "import pandas as pd\n",
    "\n",
    "def cant_accesos_por_dia(df):\n",
    "    # COLUMA HORA A TIPO DATETIME SACANDO EL DIA\n",
    "    df['Fecha'] = pd.to_datetime(df['Hora'], format=\"%d/%m/%y, %H:%M:%S\").dt.day\n",
    "    # FILTRO LAS FILAS QUE CONTENGAN EL EVENTO DESEADO\n",
    "    datos_filtrados = df['Contexto del evento'].str.contains('Consulta: Elección de turno')\n",
    "    # AGRUPO POR FECHA Y CUENTO LA CANTIDAD DE ACCESOS A LA ELECCION DE TURNO POR DIA\n",
    "    conteo = df[datos_filtrados].groupby('Fecha').size().reset_index(name = \"Cantidad\")\n",
    "    # LOS ORDENO DE MAYOR A MENOR CON ASCENDING = FALSE\n",
    "    ordenar = conteo.sort_values(by='Cantidad', ascending= False)\n",
    "\n",
    "    # MUESTRA PARA LA PREGUNTA 3\n",
    "    print(f'Muestro columnas filas de df preg 3: {ordenar.shape}')\n",
    "\n",
    "    return ordenar"
   ]
  },
  {
   "cell_type": "markdown",
   "id": "c147c993",
   "metadata": {},
   "source": [
    "## EJERCICIO 2"
   ]
  },
  {
   "cell_type": "code",
   "execution_count": null,
   "id": "503fcbe5",
   "metadata": {},
   "outputs": [],
   "source": [
    "def obtener_dias():\n",
    "    # LLAMO A LA OTRA FUNCION\n",
    "    df = pd.read_csv(\"archivos/logs_catedra.csv\")\n",
    "    accesos = cant_accesos_por_dia(df)\n",
    "    # AGARRO LOS 5 DIAS CON MAS ACCESOS\n",
    "    top_5 = accesos.head(5)\n",
    "    # BUSCO EN EL DATAFRAME ORIGINAL LA CANTIDAD DE REGISTROS EN ESOS DIAS, LOS AGRUPO POR DIA\n",
    "    df['Fecha'] = pd.to_datetime(df['Hora'], format=\"%d/%m/%y, %H:%M:%S\").dt.day\n",
    "    total = df[df['Fecha'].isin(top_5['Fecha'])].groupby('Fecha').size().reset_index(name=\"Total del df en fechas\")\n",
    "\n",
    "    # JUNTO LAS TABLAS POR FECHA PARA MOSTRARLO COMPARANDO\n",
    "    comparacion = pd.merge(top_5,total, on = 'Fecha')\n",
    "    return comparacion\n",
    "\n",
    "print(obtener_dias())"
   ]
  },
  {
   "cell_type": "markdown",
   "id": "503a22d2",
   "metadata": {},
   "source": [
    "# CUESTIONARIO"
   ]
  },
  {
   "cell_type": "markdown",
   "id": "c2d2372b",
   "metadata": {},
   "source": [
    "1. ¿Es necesario ordenar de forma explícita los datos en el ejercicio 1?¿Por qué?\n",
    "\n",
    "    RTA: Si es necesario ordenarlos de forma explicita ya que pide que esten agrupados por dia y ordenados de MAYOR A MENOR por el total de accesos de ese dia. Gracias a esta ordenacion previa, la 2da funcion puede obtener los 5 dias mas accedidos con el metodo df.head(5)"
   ]
  },
  {
   "cell_type": "markdown",
   "id": "80bcf40d",
   "metadata": {},
   "source": [
    "2. Mostrá en tu código algún objeto de tipo dataframe y otro de tipo Series\n",
    "\n",
    "    RTA: Un tipo Dataframe en mi codigo es por ejemplo la variable conteo/ordenar, el cual contiene las fechas y la cantidad de accesos ordenado de mayor a menor\n",
    "         Un tipo Series en mi codigo es por ejemplo datos_filtrados, ya que indica con True si cada fila que estoy procesando contiene el evento deseado y con False si no lo cumple. Y eso me sirve para el dataframe mencionado arriba"
   ]
  },
  {
   "cell_type": "markdown",
   "id": "55395367",
   "metadata": {},
   "source": [
    "3. ¿De qué manera podemos obtener la cantidad de filas y columnas del dataframe?\n",
    "Ejemplificá con los objetos mostrados anteriormente.\n",
    "\n",
    "    RTA: De un Dataframe la cantidad de filas y columnas se obitene con el .shape y devuelve tupla(cant_filas, cant_columnas), en este caso seria por ejemplo si hicieras ordenar.shape. Lo muestro con un print"
   ]
  },
  {
   "cell_type": "markdown",
   "id": "b2dbfc57",
   "metadata": {},
   "source": [
    "# INTERACCION CON IA"
   ]
  },
  {
   "cell_type": "markdown",
   "id": "f9db73af",
   "metadata": {},
   "source": [
    "1. Mostrá dos soluciones dadas por dos IA diferentes a la resolución del ejercicio 1 y respondé:"
   ]
  },
  {
   "cell_type": "code",
   "execution_count": null,
   "id": "da76eeee",
   "metadata": {},
   "outputs": [],
   "source": [
    "# GOOGLE GEMINI\n",
    "\n",
    "# PROMPT: Para realizar el ejercicio descargá el archivo denominado logs_catedra.csv y ubicarlo enuna carpeta denomina \"archivos\".\n",
    "#EJERCICIO 1. Escribí una función que devuelva la cantidad total de accesos a la elección de turno, agrupados por día y ordenados por las cantidades.\n",
    "#Nota: la información sobre la elección de turno se obtiene verificando que la columna \"Contexto del evento\" contenga el texto 'Consulta: Elección de turno'\n",
    "#Utilizá la opción format al convertir a tipo de datos fecha: format='%d/%m/%y,%H:%M:%S'.\n",
    "\n",
    "import pandas as pd\n",
    "\n",
    "def accesos_eleccion_turno_por_dia(ruta_archivo):\n",
    "    \"\"\"\n",
    "    Calcula la cantidad total de accesos a la elección de turno,\n",
    "    agrupados por día y ordenados por las cantidades.\n",
    "\n",
    "    Args:\n",
    "        ruta_archivo (str): La ruta completa al archivo logs_catedra.csv.\n",
    "\n",
    "    Returns:\n",
    "        pandas.Series: Una Serie con la cantidad de accesos por día,\n",
    "                       ordenada de forma descendente.\n",
    "    \"\"\"\n",
    "    try:\n",
    "        df = pd.read_csv(ruta_archivo)\n",
    "    except FileNotFoundError:\n",
    "        print(f\"Error: El archivo no se encontró en la ruta especificada: {ruta_archivo}\")\n",
    "        return None\n",
    "\n",
    "    # Convertir la columna 'Hora' a tipo de datos datetime\n",
    "    # Asegúrate de que el nombre de la columna sea el correcto en tu CSV\n",
    "    # Si es 'Tiempo', 'Fecha', etc., cámbialo aquí. Asumo 'Hora' por el formato.\n",
    "    df['Hora'] = pd.to_datetime(df['Hora'], format='%d/%m/%y, %H:%M:%S')\n",
    "\n",
    "    # Filtrar por eventos relacionados con la elección de turno\n",
    "    df_eleccion_turno = df[df['Contexto del evento'].str.contains('Consulta: Elección de turno', na=False)]\n",
    "\n",
    "    # Agrupar por día y contar los accesos\n",
    "    accesos_por_dia = df_eleccion_turno.groupby(df_eleccion_turno['Hora'].dt.date).size()\n",
    "\n",
    "    # Ordenar por cantidad de accesos de forma descendente\n",
    "    accesos_por_dia = accesos_por_dia.sort_values(ascending=False)\n",
    "\n",
    "    return accesos_por_dia"
   ]
  },
  {
   "cell_type": "code",
   "execution_count": null,
   "id": "2f50cee2",
   "metadata": {},
   "outputs": [],
   "source": [
    "# CHAT GPT\n",
    "\n",
    "# PROMPT: Para realizar el ejercicio descargá el archivo denominado logs_catedra.csv y ubicarlo enuna carpeta denomina \"archivos\".\n",
    "#EJERCICIO 1. Escribí una función que devuelva la cantidad total de accesos a la elección de turno, agrupados por día y ordenados por las cantidades.\n",
    "#Nota: la información sobre la elección de turno se obtiene verificando que la columna \"Contexto del evento\" contenga el texto 'Consulta: Elección de turno'\n",
    "#Utilizá la opción format al convertir a tipo de datos fecha: format='%d/%m/%y,%H:%M:%S'.\n",
    "\n",
    "import pandas as pd\n",
    "\n",
    "def cantidad_accesos_por_dia():\n",
    "    df = pd.read_csv('archivos/logs_catedra.csv')\n",
    "\n",
    "    # Convertimos la columna de fecha primero para poder filtrar y agrupar por día\n",
    "    df['Fecha'] = pd.to_datetime(df['Fecha'], format='%d/%m/%y,%H:%M:%S')\n",
    "\n",
    "    # Filtramos y agrupamos en un solo paso usando query y luego agrupamos por fecha\n",
    "    conteo = (\n",
    "        df.query(\"`Contexto del evento`.str.contains('Consulta: Elección de turno', na=False)\", engine='python')\n",
    "          .assign(Dia=lambda x: x['Fecha'].dt.date)\n",
    "          .groupby('Dia')\n",
    "          .size()\n",
    "          .reset_index(name='Cantidad de accesos')\n",
    "          .sort_values(by='Cantidad de accesos', ascending=False)\n",
    "          .reset_index(drop=True)\n",
    "    )\n",
    "    \n",
    "    return conteo"
   ]
  },
  {
   "cell_type": "markdown",
   "id": "08e8b19b",
   "metadata": {},
   "source": [
    "2. En la soluciones dadas, ¿se incluyen funciones o métodos no dados por la cátedra?\n",
    "\n",
    "    RTA: Por parte de Google Gemini no, todos los metodos o funciones de pandas que utiliza han sido vistos por la catedra.\n",
    "         Por parte de Chat GPT si, usa un metodo query que parece sintetizar mucho la implementacion del df filtrado por filas segun el evento especifico pero no la hemos visto ni ha sido dada por la catedra\n",
    "\n"
   ]
  },
  {
   "cell_type": "markdown",
   "id": "43b852df",
   "metadata": {},
   "source": [
    "3. Compará ambas soluciones y explicá cuál te parece mejor y por qué\n",
    "\n",
    "    RTA: El codigo brindado por Google Gemini ya que en mi opinion es mas facil de seguir, ademas contiene la implementacion de try y except por si hay un tipo de fallo al intentar leer el archivo, lo cual siempre es bueno tener en cuenta y evacuar en caso de que suceda asique en mi opinion me parece mejor solucion y mas intuitiva\n"
   ]
  }
 ],
 "metadata": {
  "kernelspec": {
   "display_name": "Python 3",
   "language": "python",
   "name": "python3"
  },
  "language_info": {
   "codemirror_mode": {
    "name": "ipython",
    "version": 3
   },
   "file_extension": ".py",
   "mimetype": "text/x-python",
   "name": "python",
   "nbconvert_exporter": "python",
   "pygments_lexer": "ipython3",
   "version": "3.12.9"
  }
 },
 "nbformat": 4,
 "nbformat_minor": 5
}
